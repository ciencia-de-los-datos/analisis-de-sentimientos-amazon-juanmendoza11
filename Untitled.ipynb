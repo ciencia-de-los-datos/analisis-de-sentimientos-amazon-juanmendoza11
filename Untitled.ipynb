{
 "cells": [
  {
   "cell_type": "code",
   "execution_count": 11,
   "id": "56fae7a2",
   "metadata": {},
   "outputs": [
    {
     "name": "stdout",
     "output_type": "stream",
     "text": [
      "                                                    msg  lbl\n",
      "1     So there is no way for me to plug it in here i...  0.0\n",
      "2                           Good case, Excellent value.  1.0\n",
      "5                                Great for the jawbone.  1.0\n",
      "10    Tied to charger for conversations lasting more...  0.0\n",
      "11                                    The mic is great.  1.0\n",
      "...                                                 ...  ...\n",
      "2901  The screen does get smudged easily because it ...  0.0\n",
      "2906  What a piece of junk.. I lose more calls on th...  0.0\n",
      "2910                       Item Does Not Match Picture.  0.0\n",
      "2911  The only thing that disappoint me is the infra...  0.0\n",
      "2913  You can not answer calls with the unit, never ...  0.0\n",
      "\n",
      "[1000 rows x 2 columns]\n"
     ]
    }
   ],
   "source": [
    "import pandas as pd\n",
    "df=pd.read_csv('amazon_cells_labelled.tsv',sep='\\t', header=None, names= ['msg','lbl'])\n",
    "print(df[df[\"lbl\"].notnull()])\n",
    "#df_untagged = df[df[\"lbl\"].isnull()]"
   ]
  }
 ],
 "metadata": {
  "kernelspec": {
   "display_name": "Python 3 (ipykernel)",
   "language": "python",
   "name": "python3"
  },
  "language_info": {
   "codemirror_mode": {
    "name": "ipython",
    "version": 3
   },
   "file_extension": ".py",
   "mimetype": "text/x-python",
   "name": "python",
   "nbconvert_exporter": "python",
   "pygments_lexer": "ipython3",
   "version": "3.7.10"
  }
 },
 "nbformat": 4,
 "nbformat_minor": 5
}
