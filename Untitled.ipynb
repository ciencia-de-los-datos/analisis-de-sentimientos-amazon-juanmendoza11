{
 "cells": [
  {
   "cell_type": "code",
   "execution_count": 10,
   "id": "4956a591",
   "metadata": {},
   "outputs": [
    {
     "name": "stdout",
     "output_type": "stream",
     "text": [
      "                                                     msg  \\\n",
      "3335   I finally bought the extender to hopefully imp...   \n",
      "6810   might just be her phone or maybe it's too smal...   \n",
      "8553                                      new blackberry   \n",
      "9396   It's a lot thicker, but it has a slide-out key...   \n",
      "10004                                     only the 2nd b   \n",
      "\n",
      "                                         lbl  \n",
      "3335                       wo bar reception.  \n",
      "6810            ransmit a loud enough voice.  \n",
      "8553                           -mobile user.  \n",
      "9396   ouchscreen and the PocketPC features.  \n",
      "10004                          I have tried.  \n"
     ]
    },
    {
     "name": "stderr",
     "output_type": "stream",
     "text": [
      "C:\\Users\\mendo\\miniconda3\\lib\\site-packages\\pandas\\util\\_decorators.py:311: ParserWarning: Falling back to the 'python' engine because the 'c' engine does not support regex separators (separators > 1 char and different from '\\s+' are interpreted as regex); you can avoid this warning by specifying engine='python'.\n",
      "  return func(*args, **kwargs)\n"
     ]
    }
   ],
   "source": [
    "import pandas as pd\n",
    "df=pd.read_csv('amazon_cells_labelled.tsv',sep='/t', header=None, names= ['msg','lbl'])\n",
    "print(df[df[\"lbl\"].notnull()])\n",
    "#df_untagged = df[df[\"lbl\"].isnull()]"
   ]
  }
 ],
 "metadata": {
  "kernelspec": {
   "display_name": "Python 3 (ipykernel)",
   "language": "python",
   "name": "python3"
  },
  "language_info": {
   "codemirror_mode": {
    "name": "ipython",
    "version": 3
   },
   "file_extension": ".py",
   "mimetype": "text/x-python",
   "name": "python",
   "nbconvert_exporter": "python",
   "pygments_lexer": "ipython3",
   "version": "3.7.10"
  }
 },
 "nbformat": 4,
 "nbformat_minor": 5
}
