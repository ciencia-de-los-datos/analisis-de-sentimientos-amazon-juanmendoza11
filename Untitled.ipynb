{
 "cells": [
  {
   "cell_type": "code",
   "execution_count": 12,
   "id": "a0ad96ae",
   "metadata": {},
   "outputs": [
    {
     "name": "stdout",
     "output_type": "stream",
     "text": [
      "                                                    msg  lbl\n",
      "1     So there is no way for me to plug it in here i...  0.0\n",
      "2                           Good case, Excellent value.  1.0\n",
      "5                                Great for the jawbone.  1.0\n",
      "10    Tied to charger for conversations lasting more...  0.0\n",
      "11                                    The mic is great.  1.0\n",
      "...                                                 ...  ...\n",
      "2901  The screen does get smudged easily because it ...  0.0\n",
      "2906  What a piece of junk.. I lose more calls on th...  0.0\n",
      "2910                       Item Does Not Match Picture.  0.0\n",
      "2911  The only thing that disappoint me is the infra...  0.0\n",
      "2913  You can not answer calls with the unit, never ...  0.0\n",
      "\n",
      "[1000 rows x 2 columns]\n",
      "                                                  msg  lbl\n",
      "0   I try not to adjust the volume setting to avoi...  NaN\n",
      "3         I thought Motorola made reliable products!.  NaN\n",
      "4                          Battery for Motorola Razr.  NaN\n",
      "6   When I got this item it was larger than I thou...  NaN\n",
      "7   (I looked for one that specifically said DCU-6...  NaN\n",
      "8   The first time it was turned on the screen dis...  NaN\n",
      "9   In some programs clicking it is the same as hi...  NaN\n",
      "12  What happened was that I only had like 70 cont...  NaN\n",
      "14  I bought five of thes for less than five dollars.  NaN\n",
      "16      I had the two year contract for this service.  NaN\n"
     ]
    }
   ],
   "source": [
    "import pandas as pd\n",
    "df=pd.read_csv('amazon_cells_labelled.tsv',sep='\\t', header=None, names= ['msg','lbl'])\n",
    "print(df[df[\"lbl\"].notnull()])\n",
    "df_untagged = df[df[\"lbl\"].isnull()]\n",
    "print(df_untagged.head(10))"
   ]
  }
 ],
 "metadata": {
  "kernelspec": {
   "display_name": "Python 3 (ipykernel)",
   "language": "python",
   "name": "python3"
  },
  "language_info": {
   "codemirror_mode": {
    "name": "ipython",
    "version": 3
   },
   "file_extension": ".py",
   "mimetype": "text/x-python",
   "name": "python",
   "nbconvert_exporter": "python",
   "pygments_lexer": "ipython3",
   "version": "3.7.10"
  }
 },
 "nbformat": 4,
 "nbformat_minor": 5
}
